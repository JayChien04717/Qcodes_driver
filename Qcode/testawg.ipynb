{
 "cells": [
  {
   "cell_type": "code",
   "execution_count": 1,
   "metadata": {},
   "outputs": [],
   "source": [
    "import numpy as np\n",
    "\n",
    "import qcodes as qc\n",
    "\n",
    "## Multidimensional scanning module\n",
    "from qcodes.dataset import (\n",
    "    LinSweep,\n",
    "    Measurement,\n",
    "    dond,\n",
    "    experiments,\n",
    "    initialise_or_create_database_at,\n",
    "    load_by_run_spec,\n",
    "    load_or_create_experiment,\n",
    "    plot_dataset,\n",
    ")\n",
    "\n",
    "\n",
    "## Using interactive widget\n",
    "from qcodes.interactive_widget import experiments_widget\n",
    "\n"
   ]
  },
  {
   "cell_type": "code",
   "execution_count": 2,
   "metadata": {},
   "outputs": [
    {
     "name": "stdout",
     "output_type": "stream",
     "text": [
      "Connected to: Rohde&Schwarz SGS100A (serial:1416.0505k02/112370, firmware:4.2.76.0-4.30.046.295) in 0.09s\n"
     ]
    },
    {
     "data": {
      "text/plain": [
       "'SGSA100'"
      ]
     },
     "execution_count": 2,
     "metadata": {},
     "output_type": "execute_result"
    }
   ],
   "source": [
    "station = qc.Station()\n",
    "from qcodes.instrument_drivers.rohde_schwarz import RohdeSchwarzSGS100A\n",
    "sgsa = RohdeSchwarzSGS100A(\"SGSA100\", \"TCPIP0::192.168.10.93::inst0::INSTR\")\n",
    "station.add_component(sgsa)"
   ]
  },
  {
   "cell_type": "code",
   "execution_count": 3,
   "metadata": {},
   "outputs": [
    {
     "name": "stdout",
     "output_type": "stream",
     "text": [
      "Connected to: TEKTRONIX AWG5208 (serial:B030598, firmware:FV:6.6.0131.0) in 0.06s\n"
     ]
    }
   ],
   "source": [
    "from qcodes.instrument_drivers.tektronix import TektronixAWG70002A\n",
    "\n",
    "awg = TektronixAWG70002A(\"AWG1\", \"TCPIP0::192.168.10.171::inst0::INSTR\", timeout=40)"
   ]
  },
  {
   "cell_type": "code",
   "execution_count": 4,
   "metadata": {},
   "outputs": [
    {
     "data": {
      "text/plain": [
       "'AWG1'"
      ]
     },
     "execution_count": 4,
     "metadata": {},
     "output_type": "execute_result"
    }
   ],
   "source": [
    "station.add_component(awg)"
   ]
  },
  {
   "cell_type": "code",
   "execution_count": 5,
   "metadata": {},
   "outputs": [],
   "source": [
    "# Let us make a sine, upload it and play it\n",
    "\n",
    "N = 50000  # minimal length allowed is 2400 points\n",
    "\n",
    "m1 = np.concatenate((np.ones(int(N / 2)), np.zeros(int(N / 2))))\n",
    "m2 = np.concatenate((np.zeros(int(N / 2)), np.ones(int(N / 2))))\n",
    "m3 = np.concatenate((np.zeros(int(N / 2)), -np.ones(int(N / 2))))\n",
    "ramp = 0.075 * np.linspace(0, 1, N)\n",
    "\n",
    "mysine = 0.1 * np.sin(10 * 2 * np.pi * np.linspace(0, 1, N)) + ramp\n",
    "\n",
    "data = np.array([mysine, m1])"
   ]
  },
  {
   "cell_type": "code",
   "execution_count": 9,
   "metadata": {},
   "outputs": [],
   "source": [
    "awg.clearSequenceList()\n",
    "awg.clearWaveformList()\n",
    "filename = \"examplewaveform1.wfmx\"\n",
    "wfmx_file =awg.makeWFMXFile(data, 0.5)\n",
    "awg.sendWFMXFile(wfmx_file, filename)\n",
    "awg.loadWFMXFile(filename)\n",
    "awg.waveformList\n",
    "awg.ch2.setWaveform(filename.replace(\".wfmx\", \"\"))"
   ]
  },
  {
   "cell_type": "code",
   "execution_count": null,
   "metadata": {},
   "outputs": [],
   "source": [
    "# Switch channel 1 on\n",
    "awg.ch2.state(1)\n",
    "\n",
    "# Start outputting...\n",
    "awg.play()"
   ]
  },
  {
   "cell_type": "code",
   "execution_count": null,
   "metadata": {},
   "outputs": [],
   "source": [
    "awg.stop()"
   ]
  },
  {
   "cell_type": "code",
   "execution_count": 10,
   "metadata": {},
   "outputs": [
    {
     "ename": "ImportError",
     "evalue": "cannot import name 'AlazarTechATS9371' from 'qcodes.instrument_drivers.AlazarTech' (c:\\Users\\cluster\\anaconda3\\envs\\qcode\\Lib\\site-packages\\qcodes\\instrument_drivers\\AlazarTech\\__init__.py)",
     "output_type": "error",
     "traceback": [
      "\u001b[1;31m---------------------------------------------------------------------------\u001b[0m",
      "\u001b[1;31mImportError\u001b[0m                               Traceback (most recent call last)",
      "Cell \u001b[1;32mIn[10], line 2\u001b[0m\n\u001b[0;32m      1\u001b[0m \u001b[39mfrom\u001b[39;00m \u001b[39mqcodes\u001b[39;00m\u001b[39m.\u001b[39;00m\u001b[39mdataset\u001b[39;00m \u001b[39mimport\u001b[39;00m do1d, plot_by_id\n\u001b[1;32m----> 2\u001b[0m \u001b[39mfrom\u001b[39;00m \u001b[39mqcodes\u001b[39;00m\u001b[39m.\u001b[39;00m\u001b[39minstrument_drivers\u001b[39;00m\u001b[39m.\u001b[39;00m\u001b[39mAlazarTech\u001b[39;00m \u001b[39mimport\u001b[39;00m (\n\u001b[0;32m      3\u001b[0m     AlazarTechATS9371,\n\u001b[0;32m      4\u001b[0m     DemodulationAcquisitionController,\n\u001b[0;32m      5\u001b[0m )\n\u001b[0;32m      6\u001b[0m \u001b[39mfrom\u001b[39;00m \u001b[39mqcodes\u001b[39;00m\u001b[39m.\u001b[39;00m\u001b[39mparameters\u001b[39;00m \u001b[39mimport\u001b[39;00m ManualParameter\n",
      "\u001b[1;31mImportError\u001b[0m: cannot import name 'AlazarTechATS9371' from 'qcodes.instrument_drivers.AlazarTech' (c:\\Users\\cluster\\anaconda3\\envs\\qcode\\Lib\\site-packages\\qcodes\\instrument_drivers\\AlazarTech\\__init__.py)"
     ]
    }
   ],
   "source": [
    "from qcodes.dataset import do1d, plot_by_id\n",
    "from qcodes.instrument_drivers.AlazarTech import (\n",
    "    AlazarTechATS9371,\n",
    "    DemodulationAcquisitionController,\n",
    ")\n",
    "from qcodes.parameters import ManualParameter"
   ]
  },
  {
   "cell_type": "code",
   "execution_count": null,
   "metadata": {},
   "outputs": [],
   "source": []
  },
  {
   "cell_type": "code",
   "execution_count": null,
   "metadata": {},
   "outputs": [],
   "source": []
  }
 ],
 "metadata": {
  "kernelspec": {
   "display_name": "qcode",
   "language": "python",
   "name": "python3"
  },
  "language_info": {
   "codemirror_mode": {
    "name": "ipython",
    "version": 3
   },
   "file_extension": ".py",
   "mimetype": "text/x-python",
   "name": "python",
   "nbconvert_exporter": "python",
   "pygments_lexer": "ipython3",
   "version": "3.13.0"
  },
  "orig_nbformat": 4
 },
 "nbformat": 4,
 "nbformat_minor": 2
}
